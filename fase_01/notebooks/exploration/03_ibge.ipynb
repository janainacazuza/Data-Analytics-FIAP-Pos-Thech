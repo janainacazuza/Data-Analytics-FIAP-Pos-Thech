{
 "cells": [
  {
   "cell_type": "markdown",
   "metadata": {},
   "source": [
    "<h1 align=\"center\">Fase 1 - Data Analysis and Exploration</h1>\n",
    "\n",
    "## Módulo 01 - Visualização de Dados"
   ]
  },
  {
   "cell_type": "markdown",
   "metadata": {},
   "source": [
    "### Aula 1 - Tratamento, exploração e visualização de dados    \t   \n"
   ]
  },
  {
   "cell_type": "markdown",
   "metadata": {},
   "source": [
    "#### 1. Para realizar a análise dos dados, as seguintes bibliotecas foram utilizadas:\n",
    "\n",
    "* **os**: para manipulação de arquivos.\n",
    "* **sys**: para manipulação de arquivos.\n",
    "* **Pandas**: para manipulação e análise dos dados.\n",
    "* **Numpy**: para manipulação de arrays e matrizes.\n",
    "* **Matplotlib**: para visualização dos dados.\n",
    "* **Seaborn**: para visualização dos dados."
   ]
  },
  {
   "cell_type": "code",
   "execution_count": 1,
   "metadata": {},
   "outputs": [],
   "source": [
    "# Import\n",
    "import os\n",
    "import sys\n",
    "import pandas as pd\n",
    "import matplotlib.pyplot as plt\n",
    "import matplotlib.ticker as ticker\n",
    "import seaborn as sns\n",
    "import numpy as np\n",
    "\n",
    "# Limpar entradas duplicadas no PATH\n",
    "sys.path = list(set(sys.path))\n",
    "\n",
    "# Adicionando o caminho do utilitários\n",
    "sys.path.append(os.path.abspath('/home/naina/Projects/pos_fiap/scripts/utils'))\n",
    "from visualization import *"
   ]
  },
  {
   "cell_type": "code",
   "execution_count": null,
   "metadata": {},
   "outputs": [],
   "source": []
  }
 ],
 "metadata": {
  "kernelspec": {
   "display_name": "PythonEnvy",
   "language": "python",
   "name": "python3"
  },
  "language_info": {
   "codemirror_mode": {
    "name": "ipython",
    "version": 3
   },
   "file_extension": ".py",
   "mimetype": "text/x-python",
   "name": "python",
   "nbconvert_exporter": "python",
   "pygments_lexer": "ipython3",
   "version": "3.12.3"
  }
 },
 "nbformat": 4,
 "nbformat_minor": 2
}
