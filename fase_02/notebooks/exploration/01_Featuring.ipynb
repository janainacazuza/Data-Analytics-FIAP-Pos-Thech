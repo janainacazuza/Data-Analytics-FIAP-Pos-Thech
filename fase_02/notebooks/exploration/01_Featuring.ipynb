{
 "cells": [
  {
   "cell_type": "markdown",
   "metadata": {},
   "source": [
    "<h1 align=\"center\">Fase 2 - Machine Learning and Time Series</h1>\n",
    "\n",
    "## Módulo 01 - Machine Learning com Python"
   ]
  },
  {
   "cell_type": "markdown",
   "metadata": {},
   "source": [
    "### Aula 3 - Feature Engineering\n",
    "- **Descrição:** "
   ]
  },
  {
   "cell_type": "markdown",
   "metadata": {},
   "source": [
    "#### 1. Para realizar a análise dos dados, as seguintes bibliotecas foram utilizadas:\n",
    "* **sys**: para manipulação de variáveis do sistema.\n",
    "* **os**: para manipulação de arquivos e diretórios.\n",
    "* **Pandas**: para manipulação e análise dos dados.\n",
    "* **Numpy**: para manipulação de arrays e operações matemáticas.\n",
    "* **Matplotlib**: para visualização dos dados.\n",
    "*  **Seaborn**: para visualização dos dados."
   ]
  },
  {
   "cell_type": "code",
   "execution_count": 1,
   "metadata": {},
   "outputs": [
    {
     "name": "stdout",
     "output_type": "stream",
     "text": [
      "Warning: get_ipython not available. Inline visualization is not necessary in VSCode.\n"
     ]
    },
    {
     "data": {
      "image/png": "[encoded data removed]",
      "text/plain": [
       "<Figure size 900x150 with 1 Axes>"
      ]
     },
     "metadata": {},
     "output_type": "display_data"
    }
   ],
   "source": [
    "# Data manipulation and visualization.\n",
    "import sys\n",
    "import os\n",
    "import pandas as pd\n",
    "import numpy as np \n",
    "import matplotlib as mpl\n",
    "import matplotlib.pyplot as plt \n",
    "import seaborn as sns\n",
    "from sklearn.model_selection import train_test_split\n",
    "\n",
    "# Add the project root directory to sys.path\n",
    "sys.path.append(os.path.abspath('../../'))\n",
    "\n",
    "# Now try importing the module\n",
    "from scripts.data_visualization.style_visualization import *\n",
    "from scripts.data_visualization.plot_visualization import *\n",
    "from scripts.data_analysis.outlier_detection import *\n",
    "from scripts.utils.custom_exceptions import *\n",
    "\n",
    "# Set up the visualization environment with a custom color palette\n",
    "custom_palette = ['#023047', '#e85d04', '#0077b6', '#ff8200', '#005f87', '#ff9c33']\n",
    "configure_visualization(palette=custom_palette)"
   ]
  }
 ],
 "metadata": {
  "kernelspec": {
   "display_name": "PythonEnvy",
   "language": "python",
   "name": "python3"
  },
  "language_info": {
   "codemirror_mode": {
    "name": "ipython",
    "version": 3
   },
   "file_extension": ".py",
   "mimetype": "text/x-python",
   "name": "python",
   "nbconvert_exporter": "python",
   "pygments_lexer": "ipython3",
   "version": "3.12.3"
  }
 },
 "nbformat": 4,
 "nbformat_minor": 2
}
